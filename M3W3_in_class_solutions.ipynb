{
 "cells": [
  {
   "cell_type": "markdown",
   "metadata": {},
   "source": [
    "### Data Cleaning"
   ]
  },
  {
   "cell_type": "markdown",
   "metadata": {},
   "source": [
    "It is commonly said that data scientists spend 80% of their time cleaning data. The rest 20% used to go to model training but these days are more towards complaining to have the clean the data. \n",
    "\n",
    "In this week, we will continue working with pandas and try to face and solve some common data cleaning issues, such as:\n",
    "- Parsing dates\n",
    "- Missing data and imputation of missing data\n",
    "- Renaming columns\n",
    "- Changing values of categories of columns\n",
    "- Creating new features (from existing columns)\n",
    "- Fuzzy string matching\n",
    "\n",
    "\n",
    "We will start with the 'San Francisco Building Permits' data from Kaggle: https://www.kaggle.com/aparnashastry/building-permit-applications-data \n",
    "\n",
    "Please download it and let's import it."
   ]
  },
  {
   "cell_type": "code",
   "execution_count": 118,
   "metadata": {},
   "outputs": [],
   "source": [
    "import pandas as pd\n",
    "import matplotlib.pyplot as plt\n",
    "import seaborn as sns\n",
    "import fuzzywuzzy"
   ]
  },
  {
   "cell_type": "code",
   "execution_count": 117,
   "metadata": {},
   "outputs": [
    {
     "name": "stdout",
     "output_type": "stream",
     "text": [
      "Collecting fuzzywuzzy\n",
      "  Downloading fuzzywuzzy-0.18.0-py2.py3-none-any.whl (18 kB)\n",
      "Installing collected packages: fuzzywuzzy\n",
      "Successfully installed fuzzywuzzy-0.18.0\n"
     ]
    }
   ],
   "source": [
    "!pip install fuzzywuzzy"
   ]
  },
  {
   "cell_type": "code",
   "execution_count": 2,
   "metadata": {},
   "outputs": [
    {
     "name": "stderr",
     "output_type": "stream",
     "text": [
      "C:\\Users\\mishe\\Anaconda3\\lib\\site-packages\\IPython\\core\\interactiveshell.py:3071: DtypeWarning: Columns (22,32) have mixed types.Specify dtype option on import or set low_memory=False.\n",
      "  has_raised = await self.run_ast_nodes(code_ast.body, cell_name,\n"
     ]
    }
   ],
   "source": [
    "df = pd.read_csv('Building_Permits.csv')"
   ]
  },
  {
   "cell_type": "code",
   "execution_count": 3,
   "metadata": {},
   "outputs": [
    {
     "data": {
      "text/html": [
       "<div>\n",
       "<style scoped>\n",
       "    .dataframe tbody tr th:only-of-type {\n",
       "        vertical-align: middle;\n",
       "    }\n",
       "\n",
       "    .dataframe tbody tr th {\n",
       "        vertical-align: top;\n",
       "    }\n",
       "\n",
       "    .dataframe thead th {\n",
       "        text-align: right;\n",
       "    }\n",
       "</style>\n",
       "<table border=\"1\" class=\"dataframe\">\n",
       "  <thead>\n",
       "    <tr style=\"text-align: right;\">\n",
       "      <th></th>\n",
       "      <th>Permit Number</th>\n",
       "      <th>Permit Type</th>\n",
       "      <th>Permit Type Definition</th>\n",
       "      <th>Permit Creation Date</th>\n",
       "      <th>Block</th>\n",
       "      <th>Lot</th>\n",
       "      <th>Street Number</th>\n",
       "      <th>Street Number Suffix</th>\n",
       "      <th>Street Name</th>\n",
       "      <th>Street Suffix</th>\n",
       "      <th>...</th>\n",
       "      <th>Existing Construction Type</th>\n",
       "      <th>Existing Construction Type Description</th>\n",
       "      <th>Proposed Construction Type</th>\n",
       "      <th>Proposed Construction Type Description</th>\n",
       "      <th>Site Permit</th>\n",
       "      <th>Supervisor District</th>\n",
       "      <th>Neighborhoods - Analysis Boundaries</th>\n",
       "      <th>Zipcode</th>\n",
       "      <th>Location</th>\n",
       "      <th>Record ID</th>\n",
       "    </tr>\n",
       "  </thead>\n",
       "  <tbody>\n",
       "    <tr>\n",
       "      <th>0</th>\n",
       "      <td>201505065519</td>\n",
       "      <td>4</td>\n",
       "      <td>sign - erect</td>\n",
       "      <td>05/06/2015</td>\n",
       "      <td>0326</td>\n",
       "      <td>023</td>\n",
       "      <td>140</td>\n",
       "      <td>NaN</td>\n",
       "      <td>Ellis</td>\n",
       "      <td>St</td>\n",
       "      <td>...</td>\n",
       "      <td>3.0</td>\n",
       "      <td>constr type 3</td>\n",
       "      <td>NaN</td>\n",
       "      <td>NaN</td>\n",
       "      <td>NaN</td>\n",
       "      <td>3.0</td>\n",
       "      <td>Tenderloin</td>\n",
       "      <td>94102.0</td>\n",
       "      <td>(37.785719256680785, -122.40852313194863)</td>\n",
       "      <td>1380611233945</td>\n",
       "    </tr>\n",
       "    <tr>\n",
       "      <th>1</th>\n",
       "      <td>201604195146</td>\n",
       "      <td>4</td>\n",
       "      <td>sign - erect</td>\n",
       "      <td>04/19/2016</td>\n",
       "      <td>0306</td>\n",
       "      <td>007</td>\n",
       "      <td>440</td>\n",
       "      <td>NaN</td>\n",
       "      <td>Geary</td>\n",
       "      <td>St</td>\n",
       "      <td>...</td>\n",
       "      <td>3.0</td>\n",
       "      <td>constr type 3</td>\n",
       "      <td>NaN</td>\n",
       "      <td>NaN</td>\n",
       "      <td>NaN</td>\n",
       "      <td>3.0</td>\n",
       "      <td>Tenderloin</td>\n",
       "      <td>94102.0</td>\n",
       "      <td>(37.78733980600732, -122.41063199757738)</td>\n",
       "      <td>1420164406718</td>\n",
       "    </tr>\n",
       "    <tr>\n",
       "      <th>2</th>\n",
       "      <td>201605278609</td>\n",
       "      <td>3</td>\n",
       "      <td>additions alterations or repairs</td>\n",
       "      <td>05/27/2016</td>\n",
       "      <td>0595</td>\n",
       "      <td>203</td>\n",
       "      <td>1647</td>\n",
       "      <td>NaN</td>\n",
       "      <td>Pacific</td>\n",
       "      <td>Av</td>\n",
       "      <td>...</td>\n",
       "      <td>1.0</td>\n",
       "      <td>constr type 1</td>\n",
       "      <td>1.0</td>\n",
       "      <td>constr type 1</td>\n",
       "      <td>NaN</td>\n",
       "      <td>3.0</td>\n",
       "      <td>Russian Hill</td>\n",
       "      <td>94109.0</td>\n",
       "      <td>(37.7946573324287, -122.42232562979227)</td>\n",
       "      <td>1424856504716</td>\n",
       "    </tr>\n",
       "    <tr>\n",
       "      <th>3</th>\n",
       "      <td>201611072166</td>\n",
       "      <td>8</td>\n",
       "      <td>otc alterations permit</td>\n",
       "      <td>11/07/2016</td>\n",
       "      <td>0156</td>\n",
       "      <td>011</td>\n",
       "      <td>1230</td>\n",
       "      <td>NaN</td>\n",
       "      <td>Pacific</td>\n",
       "      <td>Av</td>\n",
       "      <td>...</td>\n",
       "      <td>5.0</td>\n",
       "      <td>wood frame (5)</td>\n",
       "      <td>5.0</td>\n",
       "      <td>wood frame (5)</td>\n",
       "      <td>NaN</td>\n",
       "      <td>3.0</td>\n",
       "      <td>Nob Hill</td>\n",
       "      <td>94109.0</td>\n",
       "      <td>(37.79595867909168, -122.41557405519474)</td>\n",
       "      <td>1443574295566</td>\n",
       "    </tr>\n",
       "    <tr>\n",
       "      <th>4</th>\n",
       "      <td>201611283529</td>\n",
       "      <td>6</td>\n",
       "      <td>demolitions</td>\n",
       "      <td>11/28/2016</td>\n",
       "      <td>0342</td>\n",
       "      <td>001</td>\n",
       "      <td>950</td>\n",
       "      <td>NaN</td>\n",
       "      <td>Market</td>\n",
       "      <td>St</td>\n",
       "      <td>...</td>\n",
       "      <td>3.0</td>\n",
       "      <td>constr type 3</td>\n",
       "      <td>NaN</td>\n",
       "      <td>NaN</td>\n",
       "      <td>NaN</td>\n",
       "      <td>6.0</td>\n",
       "      <td>Tenderloin</td>\n",
       "      <td>94102.0</td>\n",
       "      <td>(37.78315261897309, -122.40950883997789)</td>\n",
       "      <td>144548169992</td>\n",
       "    </tr>\n",
       "  </tbody>\n",
       "</table>\n",
       "<p>5 rows × 43 columns</p>\n",
       "</div>"
      ],
      "text/plain": [
       "  Permit Number  Permit Type            Permit Type Definition  \\\n",
       "0  201505065519            4                      sign - erect   \n",
       "1  201604195146            4                      sign - erect   \n",
       "2  201605278609            3  additions alterations or repairs   \n",
       "3  201611072166            8            otc alterations permit   \n",
       "4  201611283529            6                       demolitions   \n",
       "\n",
       "  Permit Creation Date Block  Lot  Street Number Street Number Suffix  \\\n",
       "0           05/06/2015  0326  023            140                  NaN   \n",
       "1           04/19/2016  0306  007            440                  NaN   \n",
       "2           05/27/2016  0595  203           1647                  NaN   \n",
       "3           11/07/2016  0156  011           1230                  NaN   \n",
       "4           11/28/2016  0342  001            950                  NaN   \n",
       "\n",
       "  Street Name Street Suffix  ...  Existing Construction Type  \\\n",
       "0       Ellis            St  ...                         3.0   \n",
       "1       Geary            St  ...                         3.0   \n",
       "2     Pacific            Av  ...                         1.0   \n",
       "3     Pacific            Av  ...                         5.0   \n",
       "4      Market            St  ...                         3.0   \n",
       "\n",
       "  Existing Construction Type Description Proposed Construction Type  \\\n",
       "0                          constr type 3                        NaN   \n",
       "1                          constr type 3                        NaN   \n",
       "2                          constr type 1                        1.0   \n",
       "3                         wood frame (5)                        5.0   \n",
       "4                          constr type 3                        NaN   \n",
       "\n",
       "  Proposed Construction Type Description Site Permit Supervisor District  \\\n",
       "0                                    NaN         NaN                 3.0   \n",
       "1                                    NaN         NaN                 3.0   \n",
       "2                          constr type 1         NaN                 3.0   \n",
       "3                         wood frame (5)         NaN                 3.0   \n",
       "4                                    NaN         NaN                 6.0   \n",
       "\n",
       "  Neighborhoods - Analysis Boundaries  Zipcode  \\\n",
       "0                          Tenderloin  94102.0   \n",
       "1                          Tenderloin  94102.0   \n",
       "2                        Russian Hill  94109.0   \n",
       "3                            Nob Hill  94109.0   \n",
       "4                          Tenderloin  94102.0   \n",
       "\n",
       "                                    Location      Record ID  \n",
       "0  (37.785719256680785, -122.40852313194863)  1380611233945  \n",
       "1   (37.78733980600732, -122.41063199757738)  1420164406718  \n",
       "2    (37.7946573324287, -122.42232562979227)  1424856504716  \n",
       "3   (37.79595867909168, -122.41557405519474)  1443574295566  \n",
       "4   (37.78315261897309, -122.40950883997789)   144548169992  \n",
       "\n",
       "[5 rows x 43 columns]"
      ]
     },
     "execution_count": 3,
     "metadata": {},
     "output_type": "execute_result"
    }
   ],
   "source": [
    "df.head()"
   ]
  },
  {
   "cell_type": "code",
   "execution_count": 4,
   "metadata": {},
   "outputs": [
    {
     "name": "stdout",
     "output_type": "stream",
     "text": [
      "<class 'pandas.core.frame.DataFrame'>\n",
      "RangeIndex: 198900 entries, 0 to 198899\n",
      "Data columns (total 43 columns):\n",
      " #   Column                                  Non-Null Count   Dtype  \n",
      "---  ------                                  --------------   -----  \n",
      " 0   Permit Number                           198900 non-null  object \n",
      " 1   Permit Type                             198900 non-null  int64  \n",
      " 2   Permit Type Definition                  198900 non-null  object \n",
      " 3   Permit Creation Date                    198900 non-null  object \n",
      " 4   Block                                   198900 non-null  object \n",
      " 5   Lot                                     198900 non-null  object \n",
      " 6   Street Number                           198900 non-null  int64  \n",
      " 7   Street Number Suffix                    2216 non-null    object \n",
      " 8   Street Name                             198900 non-null  object \n",
      " 9   Street Suffix                           196132 non-null  object \n",
      " 10  Unit                                    29479 non-null   float64\n",
      " 11  Unit Suffix                             1961 non-null    object \n",
      " 12  Description                             198610 non-null  object \n",
      " 13  Current Status                          198900 non-null  object \n",
      " 14  Current Status Date                     198900 non-null  object \n",
      " 15  Filed Date                              198900 non-null  object \n",
      " 16  Issued Date                             183960 non-null  object \n",
      " 17  Completed Date                          97191 non-null   object \n",
      " 18  First Construction Document Date        183954 non-null  object \n",
      " 19  Structural Notification                 6922 non-null    object \n",
      " 20  Number of Existing Stories              156116 non-null  float64\n",
      " 21  Number of Proposed Stories              156032 non-null  float64\n",
      " 22  Voluntary Soft-Story Retrofit           35 non-null      object \n",
      " 23  Fire Only Permit                        18827 non-null   object \n",
      " 24  Permit Expiration Date                  147020 non-null  object \n",
      " 25  Estimated Cost                          160834 non-null  float64\n",
      " 26  Revised Cost                            192834 non-null  float64\n",
      " 27  Existing Use                            157786 non-null  object \n",
      " 28  Existing Units                          147362 non-null  float64\n",
      " 29  Proposed Use                            156461 non-null  object \n",
      " 30  Proposed Units                          147989 non-null  float64\n",
      " 31  Plansets                                161591 non-null  float64\n",
      " 32  TIDF Compliance                         2 non-null       object \n",
      " 33  Existing Construction Type              155534 non-null  float64\n",
      " 34  Existing Construction Type Description  155534 non-null  object \n",
      " 35  Proposed Construction Type              155738 non-null  float64\n",
      " 36  Proposed Construction Type Description  155738 non-null  object \n",
      " 37  Site Permit                             5359 non-null    object \n",
      " 38  Supervisor District                     197183 non-null  float64\n",
      " 39  Neighborhoods - Analysis Boundaries     197175 non-null  object \n",
      " 40  Zipcode                                 197184 non-null  float64\n",
      " 41  Location                                197200 non-null  object \n",
      " 42  Record ID                               198900 non-null  int64  \n",
      "dtypes: float64(12), int64(3), object(28)\n",
      "memory usage: 65.3+ MB\n"
     ]
    }
   ],
   "source": [
    "# Brief look at the types of data  (we also see many missing values)\n",
    "df.info()"
   ]
  },
  {
   "cell_type": "markdown",
   "metadata": {},
   "source": [
    "### Date parsing"
   ]
  },
  {
   "cell_type": "markdown",
   "metadata": {},
   "source": [
    "Working with dates is super common. Python often reads dates as 'objects' (unless you specifically assign the parse_dates argument in the .read_csv(), for example. \n",
    "\n",
    "Dates can often function as an index in a DataFrame or in general help us calculate useful information (which days of the week see most a peak in purchases, which weeks of the year witness a peak of holiday bookings, how long has a house been on the market, etc, etc. "
   ]
  },
  {
   "cell_type": "markdown",
   "metadata": {},
   "source": [
    "**Q1. In this exercise transform the 'Permit Creation Date' column to a datetime64 type and TRY to make sure the format is '%d-%m-%y'.\n",
    "Note: the tricky part is to retain the column as datetime and change the displayed format.**"
   ]
  },
  {
   "cell_type": "code",
   "execution_count": 20,
   "metadata": {},
   "outputs": [
    {
     "name": "stdout",
     "output_type": "stream",
     "text": [
      "Column has changed to:  \n",
      " 0   2015-05-06\n",
      "1   2016-04-19\n",
      "2   2016-05-27\n",
      "3   2016-11-07\n",
      "4   2016-11-28\n",
      "Name: Permit Creation Date, dtype: datetime64[ns]\n",
      "\n",
      "Format changed: \n",
      " 0    06-05-15\n",
      "1    19-04-16\n",
      "2    27-05-16\n",
      "3    07-11-16\n",
      "4    28-11-16\n",
      "Name: Permit Creation Date, dtype: object\n",
      "\n",
      "column type has changed to:  object\n"
     ]
    }
   ],
   "source": [
    "# Change to datetime\n",
    "df['Permit Creation Date'] = pd.to_datetime(df['Permit Creation Date'])\n",
    "print('Column has changed to:  \\n', df['Permit Creation Date'].head())\n",
    "\n",
    "# To change the format of the datetime displayed, we use the .strftime method, which transforms the datetime back to string but formats it\n",
    "# in a desirable way\n",
    "df['Permit Creation Date'] = df['Permit Creation Date'].dt.strftime('%d-%m-%y')\n",
    "print('\\nFormat changed: \\n', df['Permit Creation Date'].head())\n",
    "print('\\ncolumn type has changed to: ', df['Permit Creation Date'].dtype)"
   ]
  },
  {
   "cell_type": "markdown",
   "metadata": {},
   "source": [
    "Normally, we'd transform the column to a **datetime** and create new useful features using the datetime column."
   ]
  },
  {
   "cell_type": "markdown",
   "metadata": {},
   "source": [
    "**Q2. Create a feature for the year and the month of the created permit. Plot them each to see if there is a change/trend in the permits given over the years or the different months.**"
   ]
  },
  {
   "cell_type": "code",
   "execution_count": 41,
   "metadata": {},
   "outputs": [
    {
     "data": {
      "text/plain": [
       "<matplotlib.axes._subplots.AxesSubplot at 0x1e3f22b9520>"
      ]
     },
     "execution_count": 41,
     "metadata": {},
     "output_type": "execute_result"
    },
    {
     "data": {
      "image/png": "[encoded data removed]",
      "text/plain": [
       "<Figure size 432x288 with 1 Axes>"
      ]
     },
     "metadata": {
      "needs_background": "light"
     },
     "output_type": "display_data"
    }
   ],
   "source": [
    "# Create features for month and year\n",
    "df['month'] = df['Permit Creation Date'].dt.month\n",
    "df['year'] = df['Permit Creation Date'].dt.year\n",
    "\n",
    "# Simple histogram of permits per year \n",
    "sns.distplot(df['year'], bins=7, kde=False) "
   ]
  },
  {
   "cell_type": "code",
   "execution_count": 38,
   "metadata": {},
   "outputs": [
    {
     "data": {
      "text/plain": [
       "<matplotlib.axes._subplots.AxesSubplot at 0x1e3f1d77580>"
      ]
     },
     "execution_count": 38,
     "metadata": {},
     "output_type": "execute_result"
    },
    {
     "data": {
      "image/png": "[encoded data removed]",
      "text/plain": [
       "<Figure size 432x288 with 1 Axes>"
      ]
     },
     "metadata": {
      "needs_background": "light"
     },
     "output_type": "display_data"
    }
   ],
   "source": [
    "df['month'].hist(bins=12)"
   ]
  },
  {
   "cell_type": "markdown",
   "metadata": {},
   "source": [
    "**Q3. We see that all the column names are capitalized. Let's make them all lowercase and replace empty string with a _, so that a 'Permit Number' will become 'permit_number'**"
   ]
  },
  {
   "cell_type": "code",
   "execution_count": 45,
   "metadata": {},
   "outputs": [
    {
     "data": {
      "text/html": [
       "<div>\n",
       "<style scoped>\n",
       "    .dataframe tbody tr th:only-of-type {\n",
       "        vertical-align: middle;\n",
       "    }\n",
       "\n",
       "    .dataframe tbody tr th {\n",
       "        vertical-align: top;\n",
       "    }\n",
       "\n",
       "    .dataframe thead th {\n",
       "        text-align: right;\n",
       "    }\n",
       "</style>\n",
       "<table border=\"1\" class=\"dataframe\">\n",
       "  <thead>\n",
       "    <tr style=\"text-align: right;\">\n",
       "      <th></th>\n",
       "      <th>permit_number</th>\n",
       "      <th>permit_type</th>\n",
       "      <th>permit_type_definition</th>\n",
       "      <th>permit_creation_date</th>\n",
       "      <th>block</th>\n",
       "      <th>lot</th>\n",
       "      <th>street_number</th>\n",
       "      <th>street_number_suffix</th>\n",
       "      <th>street_name</th>\n",
       "      <th>street_suffix</th>\n",
       "      <th>...</th>\n",
       "      <th>proposed_construction_type</th>\n",
       "      <th>proposed_construction_type_description</th>\n",
       "      <th>site_permit</th>\n",
       "      <th>supervisor_district</th>\n",
       "      <th>neighborhoods_-_analysis_boundaries</th>\n",
       "      <th>zipcode</th>\n",
       "      <th>location</th>\n",
       "      <th>record_id</th>\n",
       "      <th>month</th>\n",
       "      <th>year</th>\n",
       "    </tr>\n",
       "  </thead>\n",
       "  <tbody>\n",
       "    <tr>\n",
       "      <th>0</th>\n",
       "      <td>201505065519</td>\n",
       "      <td>4</td>\n",
       "      <td>sign - erect</td>\n",
       "      <td>2015-06-05</td>\n",
       "      <td>0326</td>\n",
       "      <td>023</td>\n",
       "      <td>140</td>\n",
       "      <td>NaN</td>\n",
       "      <td>Ellis</td>\n",
       "      <td>St</td>\n",
       "      <td>...</td>\n",
       "      <td>NaN</td>\n",
       "      <td>NaN</td>\n",
       "      <td>NaN</td>\n",
       "      <td>3.0</td>\n",
       "      <td>Tenderloin</td>\n",
       "      <td>94102.0</td>\n",
       "      <td>(37.785719256680785, -122.40852313194863)</td>\n",
       "      <td>1380611233945</td>\n",
       "      <td>6</td>\n",
       "      <td>2015</td>\n",
       "    </tr>\n",
       "    <tr>\n",
       "      <th>1</th>\n",
       "      <td>201604195146</td>\n",
       "      <td>4</td>\n",
       "      <td>sign - erect</td>\n",
       "      <td>2016-04-19</td>\n",
       "      <td>0306</td>\n",
       "      <td>007</td>\n",
       "      <td>440</td>\n",
       "      <td>NaN</td>\n",
       "      <td>Geary</td>\n",
       "      <td>St</td>\n",
       "      <td>...</td>\n",
       "      <td>NaN</td>\n",
       "      <td>NaN</td>\n",
       "      <td>NaN</td>\n",
       "      <td>3.0</td>\n",
       "      <td>Tenderloin</td>\n",
       "      <td>94102.0</td>\n",
       "      <td>(37.78733980600732, -122.41063199757738)</td>\n",
       "      <td>1420164406718</td>\n",
       "      <td>4</td>\n",
       "      <td>2016</td>\n",
       "    </tr>\n",
       "    <tr>\n",
       "      <th>2</th>\n",
       "      <td>201605278609</td>\n",
       "      <td>3</td>\n",
       "      <td>additions alterations or repairs</td>\n",
       "      <td>2016-05-27</td>\n",
       "      <td>0595</td>\n",
       "      <td>203</td>\n",
       "      <td>1647</td>\n",
       "      <td>NaN</td>\n",
       "      <td>Pacific</td>\n",
       "      <td>Av</td>\n",
       "      <td>...</td>\n",
       "      <td>1.0</td>\n",
       "      <td>constr type 1</td>\n",
       "      <td>NaN</td>\n",
       "      <td>3.0</td>\n",
       "      <td>Russian Hill</td>\n",
       "      <td>94109.0</td>\n",
       "      <td>(37.7946573324287, -122.42232562979227)</td>\n",
       "      <td>1424856504716</td>\n",
       "      <td>5</td>\n",
       "      <td>2016</td>\n",
       "    </tr>\n",
       "    <tr>\n",
       "      <th>3</th>\n",
       "      <td>201611072166</td>\n",
       "      <td>8</td>\n",
       "      <td>otc alterations permit</td>\n",
       "      <td>2016-07-11</td>\n",
       "      <td>0156</td>\n",
       "      <td>011</td>\n",
       "      <td>1230</td>\n",
       "      <td>NaN</td>\n",
       "      <td>Pacific</td>\n",
       "      <td>Av</td>\n",
       "      <td>...</td>\n",
       "      <td>5.0</td>\n",
       "      <td>wood frame (5)</td>\n",
       "      <td>NaN</td>\n",
       "      <td>3.0</td>\n",
       "      <td>Nob Hill</td>\n",
       "      <td>94109.0</td>\n",
       "      <td>(37.79595867909168, -122.41557405519474)</td>\n",
       "      <td>1443574295566</td>\n",
       "      <td>7</td>\n",
       "      <td>2016</td>\n",
       "    </tr>\n",
       "    <tr>\n",
       "      <th>4</th>\n",
       "      <td>201611283529</td>\n",
       "      <td>6</td>\n",
       "      <td>demolitions</td>\n",
       "      <td>2016-11-28</td>\n",
       "      <td>0342</td>\n",
       "      <td>001</td>\n",
       "      <td>950</td>\n",
       "      <td>NaN</td>\n",
       "      <td>Market</td>\n",
       "      <td>St</td>\n",
       "      <td>...</td>\n",
       "      <td>NaN</td>\n",
       "      <td>NaN</td>\n",
       "      <td>NaN</td>\n",
       "      <td>6.0</td>\n",
       "      <td>Tenderloin</td>\n",
       "      <td>94102.0</td>\n",
       "      <td>(37.78315261897309, -122.40950883997789)</td>\n",
       "      <td>144548169992</td>\n",
       "      <td>11</td>\n",
       "      <td>2016</td>\n",
       "    </tr>\n",
       "  </tbody>\n",
       "</table>\n",
       "<p>5 rows × 45 columns</p>\n",
       "</div>"
      ],
      "text/plain": [
       "  permit_number  permit_type            permit_type_definition  \\\n",
       "0  201505065519            4                      sign - erect   \n",
       "1  201604195146            4                      sign - erect   \n",
       "2  201605278609            3  additions alterations or repairs   \n",
       "3  201611072166            8            otc alterations permit   \n",
       "4  201611283529            6                       demolitions   \n",
       "\n",
       "  permit_creation_date block  lot  street_number street_number_suffix  \\\n",
       "0           2015-06-05  0326  023            140                  NaN   \n",
       "1           2016-04-19  0306  007            440                  NaN   \n",
       "2           2016-05-27  0595  203           1647                  NaN   \n",
       "3           2016-07-11  0156  011           1230                  NaN   \n",
       "4           2016-11-28  0342  001            950                  NaN   \n",
       "\n",
       "  street_name street_suffix  ...  proposed_construction_type  \\\n",
       "0       Ellis            St  ...                         NaN   \n",
       "1       Geary            St  ...                         NaN   \n",
       "2     Pacific            Av  ...                         1.0   \n",
       "3     Pacific            Av  ...                         5.0   \n",
       "4      Market            St  ...                         NaN   \n",
       "\n",
       "  proposed_construction_type_description site_permit supervisor_district  \\\n",
       "0                                    NaN         NaN                 3.0   \n",
       "1                                    NaN         NaN                 3.0   \n",
       "2                          constr type 1         NaN                 3.0   \n",
       "3                         wood frame (5)         NaN                 3.0   \n",
       "4                                    NaN         NaN                 6.0   \n",
       "\n",
       "  neighborhoods_-_analysis_boundaries  zipcode  \\\n",
       "0                          Tenderloin  94102.0   \n",
       "1                          Tenderloin  94102.0   \n",
       "2                        Russian Hill  94109.0   \n",
       "3                            Nob Hill  94109.0   \n",
       "4                          Tenderloin  94102.0   \n",
       "\n",
       "                                    location      record_id month  year  \n",
       "0  (37.785719256680785, -122.40852313194863)  1380611233945     6  2015  \n",
       "1   (37.78733980600732, -122.41063199757738)  1420164406718     4  2016  \n",
       "2    (37.7946573324287, -122.42232562979227)  1424856504716     5  2016  \n",
       "3   (37.79595867909168, -122.41557405519474)  1443574295566     7  2016  \n",
       "4   (37.78315261897309, -122.40950883997789)   144548169992    11  2016  \n",
       "\n",
       "[5 rows x 45 columns]"
      ]
     },
     "execution_count": 45,
     "metadata": {},
     "output_type": "execute_result"
    }
   ],
   "source": [
    "# Solution with a list comprehension\n",
    "new_cols = [col.lower().replace(' ', '_') for col in df.columns]\n",
    "df.columns = new_cols\n",
    "df.head()"
   ]
  },
  {
   "cell_type": "markdown",
   "metadata": {},
   "source": [
    "### Missing values"
   ]
  },
  {
   "cell_type": "markdown",
   "metadata": {},
   "source": [
    "**Q4. Find out what percentage of the data is missing (across all the data).** "
   ]
  },
  {
   "cell_type": "markdown",
   "metadata": {},
   "source": [
    "*Fun fact: .isna() and .isnull() both work *"
   ]
  },
  {
   "cell_type": "code",
   "execution_count": 50,
   "metadata": {},
   "outputs": [
    {
     "data": {
      "text/plain": [
       "0.25092911010558067"
      ]
     },
     "execution_count": 50,
     "metadata": {},
     "output_type": "execute_result"
    }
   ],
   "source": [
    "df.isnull().sum().sum() / (df.shape[0]*df.shape[1])"
   ]
  },
  {
   "cell_type": "markdown",
   "metadata": {},
   "source": [
    "The first part finds the total number of missing values across the data set. We divide that by the total number of data entry points (i.e. rows multiplied by columns). In this case, around 25% of the data is missing, which is substantial. "
   ]
  },
  {
   "cell_type": "markdown",
   "metadata": {},
   "source": [
    "There are many reasons why the data could be missing. The main distinction you may want to make is:\n",
    "**- Is the data missing because it was not recorded or because the value does not exist?**\n",
    "\n",
    "If the data is missing because the VALUE DOES NOT EXIST (such as the number of children in an income tax form for someone with no kids), then you may want to keep it missing. \n",
    "\n",
    "If the value is missing because it was NOT RECORDED, then you may want to impute it. Common imputation approaches:\n",
    "- Replace all missing values with 0s\n",
    "- Replace all missing values with a statistical measure (the mean, median, mode) \n",
    "- Algorithmically (for example, predict a binary value using a classification task and a quantitative value using a regression task). \n",
    "\n",
    "We will stick to the first two approaches. "
   ]
  },
  {
   "cell_type": "markdown",
   "metadata": {},
   "source": [
    "**Q5. Explore the street_number_suffix and the zipcode columns. Which of these, if any, are missing because they do not exist, and which are missing because they are not recorded?**"
   ]
  },
  {
   "cell_type": "code",
   "execution_count": 52,
   "metadata": {},
   "outputs": [
    {
     "data": {
      "text/plain": [
       "0.98885872297637"
      ]
     },
     "execution_count": 52,
     "metadata": {},
     "output_type": "execute_result"
    }
   ],
   "source": [
    "df.street_number_suffix.isnull().sum()/df.shape[0]"
   ]
  },
  {
   "cell_type": "markdown",
   "metadata": {},
   "source": [
    "Almost all entries for the stree_number_suffix are missing. Let's explore those that are not. "
   ]
  },
  {
   "cell_type": "code",
   "execution_count": 57,
   "metadata": {},
   "outputs": [
    {
     "data": {
      "text/plain": [
       "A    1501\n",
       "B     291\n",
       "V     228\n",
       "C      56\n",
       "E      28\n",
       "F      24\n",
       "G      12\n",
       "H      11\n",
       "D      11\n",
       "K      11\n",
       "R      10\n",
       "L      10\n",
       "J       9\n",
       "I       7\n",
       "P       3\n",
       "N       2\n",
       "0       1\n",
       "½       1\n",
       "Name: street_number_suffix, dtype: int64"
      ]
     },
     "execution_count": 57,
     "metadata": {},
     "output_type": "execute_result"
    }
   ],
   "source": [
    "df.loc[df.street_number_suffix.notnull(), 'street_number_suffix'].value_counts()"
   ]
  },
  {
   "cell_type": "markdown",
   "metadata": {},
   "source": [
    "My assumption is that it is missing because it does not exist. Quick Google search confirms that street names are numbered. "
   ]
  },
  {
   "cell_type": "code",
   "execution_count": 58,
   "metadata": {},
   "outputs": [
    {
     "data": {
      "text/plain": [
       "0.008627450980392156"
      ]
     },
     "execution_count": 58,
     "metadata": {},
     "output_type": "execute_result"
    }
   ],
   "source": [
    "# Let's see what proportion of Zipcode is missing?\n",
    "\n",
    "df.zipcode.isnull().sum()/ df.shape[0]"
   ]
  },
  {
   "cell_type": "markdown",
   "metadata": {},
   "source": [
    "Only a very small percentage of the Zipcode is missing. Most likely it is missing because it has not been recorded."
   ]
  },
  {
   "cell_type": "markdown",
   "metadata": {},
   "source": [
    "**Q6. Try removing all rows that contain missing data. How many are left?\n",
    "Advice, I'd work with a copy of the dataframe**"
   ]
  },
  {
   "cell_type": "code",
   "execution_count": 60,
   "metadata": {},
   "outputs": [
    {
     "data": {
      "text/html": [
       "<div>\n",
       "<style scoped>\n",
       "    .dataframe tbody tr th:only-of-type {\n",
       "        vertical-align: middle;\n",
       "    }\n",
       "\n",
       "    .dataframe tbody tr th {\n",
       "        vertical-align: top;\n",
       "    }\n",
       "\n",
       "    .dataframe thead th {\n",
       "        text-align: right;\n",
       "    }\n",
       "</style>\n",
       "<table border=\"1\" class=\"dataframe\">\n",
       "  <thead>\n",
       "    <tr style=\"text-align: right;\">\n",
       "      <th></th>\n",
       "      <th>permit_number</th>\n",
       "      <th>permit_type</th>\n",
       "      <th>permit_type_definition</th>\n",
       "      <th>permit_creation_date</th>\n",
       "      <th>block</th>\n",
       "      <th>lot</th>\n",
       "      <th>street_number</th>\n",
       "      <th>street_number_suffix</th>\n",
       "      <th>street_name</th>\n",
       "      <th>street_suffix</th>\n",
       "      <th>...</th>\n",
       "      <th>proposed_construction_type</th>\n",
       "      <th>proposed_construction_type_description</th>\n",
       "      <th>site_permit</th>\n",
       "      <th>supervisor_district</th>\n",
       "      <th>neighborhoods_-_analysis_boundaries</th>\n",
       "      <th>zipcode</th>\n",
       "      <th>location</th>\n",
       "      <th>record_id</th>\n",
       "      <th>month</th>\n",
       "      <th>year</th>\n",
       "    </tr>\n",
       "  </thead>\n",
       "  <tbody>\n",
       "  </tbody>\n",
       "</table>\n",
       "<p>0 rows × 45 columns</p>\n",
       "</div>"
      ],
      "text/plain": [
       "Empty DataFrame\n",
       "Columns: [permit_number, permit_type, permit_type_definition, permit_creation_date, block, lot, street_number, street_number_suffix, street_name, street_suffix, unit, unit_suffix, description, current_status, current_status_date, filed_date, issued_date, completed_date, first_construction_document_date, structural_notification, number_of_existing_stories, number_of_proposed_stories, voluntary_soft-story_retrofit, fire_only_permit, permit_expiration_date, estimated_cost, revised_cost, existing_use, existing_units, proposed_use, proposed_units, plansets, tidf_compliance, existing_construction_type, existing_construction_type_description, proposed_construction_type, proposed_construction_type_description, site_permit, supervisor_district, neighborhoods_-_analysis_boundaries, zipcode, location, record_id, month, year]\n",
       "Index: []\n",
       "\n",
       "[0 rows x 45 columns]"
      ]
     },
     "execution_count": 60,
     "metadata": {},
     "output_type": "execute_result"
    }
   ],
   "source": [
    "df1 = df.dropna()\n",
    "df1"
   ]
  },
  {
   "cell_type": "markdown",
   "metadata": {},
   "source": [
    "We are left with 0 rows, meaning we have missing data in each and every row of the DataFrame."
   ]
  },
  {
   "cell_type": "markdown",
   "metadata": {},
   "source": [
    "**Q7. Now remove all columns with missing data. How many columns are left?**"
   ]
  },
  {
   "cell_type": "code",
   "execution_count": 61,
   "metadata": {},
   "outputs": [
    {
     "data": {
      "text/plain": [
       "(198900, 14)"
      ]
     },
     "execution_count": 61,
     "metadata": {},
     "output_type": "execute_result"
    }
   ],
   "source": [
    "df2 = df.dropna(axis=1)\n",
    "df2.shape"
   ]
  },
  {
   "cell_type": "markdown",
   "metadata": {},
   "source": [
    "It looks 14 columns have no missing values at all."
   ]
  },
  {
   "cell_type": "markdown",
   "metadata": {},
   "source": [
    "**Q8. Replace all missing values with the mode of each column.**"
   ]
  },
  {
   "cell_type": "markdown",
   "metadata": {},
   "source": [
    "There are multiple ways to find the mode (i.e. the most frequent value in a column). Either using .mode() on the column or .value_counts(). In both cases, we need to extract the first result."
   ]
  },
  {
   "cell_type": "code",
   "execution_count": 1,
   "metadata": {},
   "outputs": [
    {
     "ename": "NameError",
     "evalue": "name 'df' is not defined",
     "output_type": "error",
     "traceback": [
      "\u001b[1;31m---------------------------------------------------------------------------\u001b[0m",
      "\u001b[1;31mNameError\u001b[0m                                 Traceback (most recent call last)",
      "\u001b[1;32m<ipython-input-1-3431e79b6ebd>\u001b[0m in \u001b[0;36m<module>\u001b[1;34m\u001b[0m\n\u001b[1;32m----> 1\u001b[1;33m \u001b[0mdf\u001b[0m\u001b[1;33m.\u001b[0m\u001b[0mstreet_name\u001b[0m\u001b[1;33m.\u001b[0m\u001b[0mvalue_counts\u001b[0m\u001b[1;33m(\u001b[0m\u001b[1;33m)\u001b[0m\u001b[1;33m.\u001b[0m\u001b[0mindex\u001b[0m\u001b[1;33m[\u001b[0m\u001b[1;36m0\u001b[0m\u001b[1;33m]\u001b[0m\u001b[1;33m\u001b[0m\u001b[1;33m\u001b[0m\u001b[0m\n\u001b[0m",
      "\u001b[1;31mNameError\u001b[0m: name 'df' is not defined"
     ]
    }
   ],
   "source": [
    "df.street_name.value_counts().index[0] "
   ]
  },
  {
   "cell_type": "code",
   "execution_count": 2,
   "metadata": {},
   "outputs": [
    {
     "ename": "NameError",
     "evalue": "name 'df' is not defined",
     "output_type": "error",
     "traceback": [
      "\u001b[1;31m---------------------------------------------------------------------------\u001b[0m",
      "\u001b[1;31mNameError\u001b[0m                                 Traceback (most recent call last)",
      "\u001b[1;32m<ipython-input-2-14085dd68c16>\u001b[0m in \u001b[0;36m<module>\u001b[1;34m\u001b[0m\n\u001b[1;32m----> 1\u001b[1;33m \u001b[0mdf\u001b[0m\u001b[1;33m.\u001b[0m\u001b[0mstreet_name\u001b[0m\u001b[1;33m.\u001b[0m\u001b[0mmode\u001b[0m\u001b[1;33m(\u001b[0m\u001b[1;33m)\u001b[0m\u001b[1;33m[\u001b[0m\u001b[1;36m0\u001b[0m\u001b[1;33m]\u001b[0m\u001b[1;33m\u001b[0m\u001b[1;33m\u001b[0m\u001b[0m\n\u001b[0m",
      "\u001b[1;31mNameError\u001b[0m: name 'df' is not defined"
     ]
    }
   ],
   "source": [
    "df.street_name.mode()[0]"
   ]
  },
  {
   "cell_type": "code",
   "execution_count": 73,
   "metadata": {},
   "outputs": [],
   "source": [
    "# Let's fill it in for the whole DataFrame\n",
    "for col in df.columns:\n",
    "    df[col] = df[col].fillna(df[col].mode()[0])"
   ]
  },
  {
   "cell_type": "code",
   "execution_count": 76,
   "metadata": {},
   "outputs": [
    {
     "name": "stdout",
     "output_type": "stream",
     "text": [
      "<class 'pandas.core.frame.DataFrame'>\n",
      "RangeIndex: 198900 entries, 0 to 198899\n",
      "Data columns (total 45 columns):\n",
      " #   Column                                  Non-Null Count   Dtype         \n",
      "---  ------                                  --------------   -----         \n",
      " 0   permit_number                           198900 non-null  object        \n",
      " 1   permit_type                             198900 non-null  int64         \n",
      " 2   permit_type_definition                  198900 non-null  object        \n",
      " 3   permit_creation_date                    198900 non-null  datetime64[ns]\n",
      " 4   block                                   198900 non-null  object        \n",
      " 5   lot                                     198900 non-null  object        \n",
      " 6   street_number                           198900 non-null  int64         \n",
      " 7   street_number_suffix                    198900 non-null  object        \n",
      " 8   street_name                             198900 non-null  object        \n",
      " 9   street_suffix                           198900 non-null  object        \n",
      " 10  unit                                    198900 non-null  float64       \n",
      " 11  unit_suffix                             198900 non-null  object        \n",
      " 12  description                             198900 non-null  object        \n",
      " 13  current_status                          198900 non-null  object        \n",
      " 14  current_status_date                     198900 non-null  object        \n",
      " 15  filed_date                              198900 non-null  object        \n",
      " 16  issued_date                             198900 non-null  object        \n",
      " 17  completed_date                          198900 non-null  object        \n",
      " 18  first_construction_document_date        198900 non-null  object        \n",
      " 19  structural_notification                 198900 non-null  object        \n",
      " 20  number_of_existing_stories              198900 non-null  float64       \n",
      " 21  number_of_proposed_stories              198900 non-null  float64       \n",
      " 22  voluntary_soft-story_retrofit           198900 non-null  object        \n",
      " 23  fire_only_permit                        198900 non-null  object        \n",
      " 24  permit_expiration_date                  198900 non-null  object        \n",
      " 25  estimated_cost                          198900 non-null  float64       \n",
      " 26  revised_cost                            198900 non-null  float64       \n",
      " 27  existing_use                            198900 non-null  object        \n",
      " 28  existing_units                          198900 non-null  float64       \n",
      " 29  proposed_use                            198900 non-null  object        \n",
      " 30  proposed_units                          198900 non-null  float64       \n",
      " 31  plansets                                198900 non-null  float64       \n",
      " 32  tidf_compliance                         198900 non-null  object        \n",
      " 33  existing_construction_type              198900 non-null  float64       \n",
      " 34  existing_construction_type_description  198900 non-null  object        \n",
      " 35  proposed_construction_type              198900 non-null  float64       \n",
      " 36  proposed_construction_type_description  198900 non-null  object        \n",
      " 37  site_permit                             198900 non-null  object        \n",
      " 38  supervisor_district                     198900 non-null  float64       \n",
      " 39  neighborhoods_-_analysis_boundaries     198900 non-null  object        \n",
      " 40  zipcode                                 198900 non-null  float64       \n",
      " 41  location                                198900 non-null  object        \n",
      " 42  record_id                               198900 non-null  int64         \n",
      " 43  month                                   198900 non-null  int64         \n",
      " 44  year                                    198900 non-null  int64         \n",
      "dtypes: datetime64[ns](1), float64(12), int64(5), object(27)\n",
      "memory usage: 68.3+ MB\n"
     ]
    }
   ],
   "source": [
    "# Ensuring we no longer have missing values\n",
    "#df.isnull().sum()\n",
    "df.info()"
   ]
  },
  {
   "cell_type": "markdown",
   "metadata": {},
   "source": [
    "### Recode/create new features"
   ]
  },
  {
   "cell_type": "markdown",
   "metadata": {},
   "source": [
    "**Q9. Replace the 'wood frame (5)' in the construction_type_description with 'constr type 5'.**"
   ]
  },
  {
   "cell_type": "code",
   "execution_count": 78,
   "metadata": {},
   "outputs": [
    {
     "data": {
      "text/plain": [
       "wood frame (5)    156716\n",
       "constr type 1      28072\n",
       "constr type 3       9663\n",
       "constr type 2       4068\n",
       "constr type 4        381\n",
       "Name: existing_construction_type_description, dtype: int64"
      ]
     },
     "execution_count": 78,
     "metadata": {},
     "output_type": "execute_result"
    }
   ],
   "source": [
    "df.existing_construction_type_description.value_counts()"
   ]
  },
  {
   "cell_type": "code",
   "execution_count": 81,
   "metadata": {},
   "outputs": [
    {
     "data": {
      "text/plain": [
       "const type 5     156716\n",
       "constr type 1     28072\n",
       "constr type 3      9663\n",
       "constr type 2      4068\n",
       "constr type 4       381\n",
       "Name: existing_construction_type_description, dtype: int64"
      ]
     },
     "execution_count": 81,
     "metadata": {},
     "output_type": "execute_result"
    }
   ],
   "source": [
    "df.existing_construction_type_description = df.existing_construction_type_description.str.strip().replace('wood frame (5)', 'constr  type 5')\n",
    "df.existing_construction_type_description.value_counts()"
   ]
  },
  {
   "cell_type": "markdown",
   "metadata": {},
   "source": [
    "**Q10. The location column consists of tuples in the form of (latitude, longitude). Extract each in a separate column, then drop the location one.** "
   ]
  },
  {
   "cell_type": "code",
   "execution_count": 82,
   "metadata": {},
   "outputs": [
    {
     "data": {
      "text/plain": [
       "(37.79226164705184, -122.4034859571375)      2254\n",
       "(37.79294896659241, -122.39809861435491)      330\n",
       "(37.728556952954136, -122.47676641508518)     281\n",
       "(37.77523036414975, -122.4174703200545)       276\n",
       "(37.78977799888473, -122.40173648131338)      252\n",
       "                                             ... \n",
       "(37.76993589547894, -122.4527596114203)         1\n",
       "(37.76307416185232, -122.43335670383088)        1\n",
       "(37.8048356541692, -122.44013047907)            1\n",
       "(37.71811497082732, -122.43904549262373)        1\n",
       "(37.70929664494839, -122.4226070769868)         1\n",
       "Name: location, Length: 57604, dtype: int64"
      ]
     },
     "execution_count": 82,
     "metadata": {},
     "output_type": "execute_result"
    }
   ],
   "source": [
    "df.location.value_counts()"
   ]
  },
  {
   "cell_type": "code",
   "execution_count": 104,
   "metadata": {},
   "outputs": [],
   "source": [
    "latitudes = [loc.strip().split(',')[0][1:] for loc in df.location]\n",
    "longitudes =  [loc.strip().split(',')[1][:-1] for loc in df.location]\n",
    "\n",
    "df['latitude'] = latitudes\n",
    "df['longitude'] = longitudes\n",
    "df['latitude'] =  df['latitude'].astype('float')\n",
    "df['longitude'] = df['longitude'].astype('float')"
   ]
  },
  {
   "cell_type": "code",
   "execution_count": 105,
   "metadata": {},
   "outputs": [
    {
     "data": {
      "text/plain": [
       "count    198900.000000\n",
       "mean         37.768952\n",
       "std           0.023727\n",
       "min          37.708170\n",
       "25%          37.752399\n",
       "50%          37.773749\n",
       "75%          37.789077\n",
       "max          37.825017\n",
       "Name: latitude, dtype: float64"
      ]
     },
     "execution_count": 105,
     "metadata": {},
     "output_type": "execute_result"
    }
   ],
   "source": [
    "df.latitude.describe()"
   ]
  },
  {
   "cell_type": "code",
   "execution_count": 106,
   "metadata": {},
   "outputs": [
    {
     "data": {
      "text/plain": [
       "count    198900.000000\n",
       "mean       -122.431570\n",
       "std           0.028553\n",
       "min        -122.510938\n",
       "25%        -122.446967\n",
       "50%        -122.427235\n",
       "75%        -122.409124\n",
       "max        -122.365853\n",
       "Name: longitude, dtype: float64"
      ]
     },
     "execution_count": 106,
     "metadata": {},
     "output_type": "execute_result"
    }
   ],
   "source": [
    "df.longitude.describe()"
   ]
  },
  {
   "cell_type": "markdown",
   "metadata": {},
   "source": [
    "**Q11 Another interesting issue is that often with categorical data, we may have the same category but spelled in many different ways, especially if it is a field entered by many and different humans. We may want to find which categories mean the same (for example, Cali, California, or Califor may refer to the same state. \n",
    "Let's look at the existing_use column and see which of the uses are most similar/close to each other.**\n",
    "\n",
    "    You may want to work with the fuzzywuzzy package"
   ]
  },
  {
   "cell_type": "markdown",
   "metadata": {},
   "source": [
    "**FuzzyWuzzy** is a package which enables automated fuzzy string matching. Fuzzy matching is the process of finding strings which are very similar to a target string. Two strings are more similar, the fewer characters you need to change to obtain the second from the first (for example 'reading' and 'raeding' are very close as they differe by a single character. \n",
    "\n",
    "**FuzzyWuzzy** returns a ratio given two strings where the close the ratio is to a 100, the more similar the two strings, and the smaller the edit distance.\n",
    "\n"
   ]
  },
  {
   "cell_type": "code",
   "execution_count": 123,
   "metadata": {},
   "outputs": [
    {
     "data": {
      "text/plain": [
       "91"
      ]
     },
     "execution_count": 123,
     "metadata": {},
     "output_type": "execute_result"
    }
   ],
   "source": [
    "# Let's try fizzywuzzy with a simple example\n",
    "from fuzzywuzzy import process, fuzz\n",
    "\n",
    "fuzz.ratio('apple', 'apples')"
   ]
  },
  {
   "cell_type": "code",
   "execution_count": 125,
   "metadata": {},
   "outputs": [
    {
     "data": {
      "text/plain": [
       "[('New York Jets', 100), ('New York Giants', 79), ('Atlanta Falcons', 29)]"
      ]
     },
     "execution_count": 125,
     "metadata": {},
     "output_type": "execute_result"
    }
   ],
   "source": [
    "# From the PyPi's package doumentation, I find this example helpful:\n",
    "\n",
    "choices = [\"Atlanta Falcons\", \"New York Jets\", \"New York Giants\", \"Dallas Cowboys\"]\n",
    "process.extract(\"new york jets\", choices, limit=3)"
   ]
  },
  {
   "cell_type": "markdown",
   "metadata": {},
   "source": [
    "Going back to our data set.. \n",
    "\n",
    "First, print out all the unique values of the 'existing_use' column. We see that are at least all in lower case, so no need to modify that. "
   ]
  },
  {
   "cell_type": "code",
   "execution_count": 126,
   "metadata": {},
   "outputs": [
    {
     "data": {
      "text/plain": [
       "array(['tourist hotel/motel', 'retail sales', '1 family dwelling',\n",
       "       'apartments', '2 family dwelling', 'church', 'storage shed',\n",
       "       'office', 'vacant lot', 'food/beverage hndlng',\n",
       "       'residential hotel', 'filling/service stn', 'workshop commercial',\n",
       "       'clinics-medic/dental', 'misc group residns.', 'hospital', 'club',\n",
       "       'barber/beauty salon', 'warehouse,no frnitur', 'school',\n",
       "       'artist live/work', 'manufacturing', 'garment shops',\n",
       "       'public assmbly other', 'auto repairs', 'lending institution',\n",
       "       'museum', 'warehouse, furniture', 'prkng garage/private',\n",
       "       'antenna', 'health studios & gym', 'massage parlor',\n",
       "       'printing plant', 'parking lot', 'workshop residential',\n",
       "       'power plant', 'tower', 'mortuary', 'animal sale or care',\n",
       "       'laundry/laundromat', 'nite club', 'paint store',\n",
       "       'recreation bldg', 'theater', 'prkng garage/public', 'sign',\n",
       "       'phone xchnge/equip', 'dance hall', 'sfpd or sffd station',\n",
       "       'storage tanks', 'muni carbarn', 'stadium', 'automobile sales',\n",
       "       'fence/retaining wall', 'radio & tv stations',\n",
       "       'social care facility', 'amusement center', 'day care home gt 12',\n",
       "       'moving & storage', 'dry cleaners', 'day care home 7 - 12',\n",
       "       'chemical processing', 'accessory cottage', 'day care, non-res',\n",
       "       'nursing home non amb', 'wholesale sales', 'library',\n",
       "       'nursery(floral)', 'day care center', 'nursing home gt 6',\n",
       "       'sewage plant', 'convalescent home', 'greenhouse',\n",
       "       'adult entertainment', 'muni driver restroom', 'sound studio',\n",
       "       'dairies/dairy equip.', 'christmas tree lot', 'bath house', 'jail',\n",
       "       \"prson'l svc tutor\", 'r-3(dwg) nursing', 'car wash',\n",
       "       'roofing materials', 'orphanage', 'ambulance service',\n",
       "       'meat/produce marts', 'building materials', 'temple',\n",
       "       'swimming pool', 'day care home lt 7', 'nursing home lte 6',\n",
       "       'child care'], dtype=object)"
      ]
     },
     "execution_count": 126,
     "metadata": {},
     "output_type": "execute_result"
    }
   ],
   "source": [
    "df.existing_use.unique()"
   ]
  },
  {
   "cell_type": "code",
   "execution_count": 132,
   "metadata": {},
   "outputs": [
    {
     "data": {
      "text/plain": [
       "[('child care', 100),\n",
       " ('social care facility', 53),\n",
       " ('animal sale or care', 48),\n",
       " ('chemical processing', 48),\n",
       " ('day care center', 48)]"
      ]
     },
     "execution_count": 132,
     "metadata": {},
     "output_type": "execute_result"
    }
   ],
   "source": [
    "# Let's try with a sample match\n",
    "\n",
    "existing_use_values = list(df.existing_use.unique())\n",
    "process.extract(\"child care\", existing_use_values, limit=5, scorer=fuzz.ratio)"
   ]
  },
  {
   "cell_type": "code",
   "execution_count": 139,
   "metadata": {},
   "outputs": [
    {
     "name": "stdout",
     "output_type": "stream",
     "text": [
      "Original value: tourist hotel/motel | List of close matches: ['tourist hotel/motel']\n",
      "Original value: retail sales | List of close matches: ['retail sales', 'wholesale sales', 'automobile sales', 'animal sale or care', 'fence/retaining wall']\n",
      "Original value: 1 family dwelling | List of close matches: ['1 family dwelling', '2 family dwelling']\n",
      "Original value: apartments | List of close matches: ['apartments', 'garment shops']\n",
      "Original value: 2 family dwelling | List of close matches: ['2 family dwelling', '1 family dwelling']\n",
      "Original value: church | List of close matches: ['church']\n",
      "Original value: storage shed | List of close matches: ['storage shed', 'storage tanks', 'food/beverage hndlng', 'moving & storage']\n",
      "Original value: office | List of close matches: ['office']\n",
      "Original value: vacant lot | List of close matches: ['vacant lot', 'parking lot', 'convalescent home']\n",
      "Original value: food/beverage hndlng | List of close matches: ['food/beverage hndlng', 'storage shed']\n",
      "Original value: residential hotel | List of close matches: ['residential hotel', 'workshop residential', 'convalescent home', 'greenhouse', 'nursing home lte 6']\n",
      "Original value: filling/service stn | List of close matches: ['filling/service stn', 'ambulance service', 'building materials', 'roofing materials']\n",
      "Original value: workshop commercial | List of close matches: ['workshop commercial', 'workshop residential', 'roofing materials']\n",
      "Original value: clinics-medic/dental | List of close matches: ['clinics-medic/dental']\n",
      "Original value: misc group residns. | List of close matches: ['misc group residns.', 'chemical processing', 'workshop residential']\n",
      "Original value: hospital | List of close matches: ['hospital', 'workshop residential']\n",
      "Original value: club | List of close matches: ['club', 'nite club']\n",
      "Original value: barber/beauty salon | List of close matches: ['barber/beauty salon']\n",
      "Original value: warehouse,no frnitur | List of close matches: ['warehouse,no frnitur', 'warehouse, furniture']\n",
      "Original value: school | List of close matches: ['school']\n",
      "Original value: artist live/work | List of close matches: ['artist live/work']\n",
      "Original value: manufacturing | List of close matches: ['manufacturing']\n",
      "Original value: garment shops | List of close matches: ['garment shops', 'apartments', 'greenhouse', 'bath house', 'paint store']\n",
      "Original value: public assmbly other | List of close matches: ['public assmbly other']\n",
      "Original value: auto repairs | List of close matches: ['auto repairs', 'automobile sales']\n",
      "Original value: lending institution | List of close matches: ['lending institution', 'sound studio']\n",
      "Original value: museum | List of close matches: ['museum']\n",
      "Original value: warehouse, furniture | List of close matches: ['warehouse, furniture', 'warehouse,no frnitur']\n",
      "Original value: prkng garage/private | List of close matches: ['prkng garage/private', 'prkng garage/public']\n",
      "Original value: antenna | List of close matches: ['antenna']\n",
      "Original value: health studios & gym | List of close matches: ['health studios & gym']\n",
      "Original value: massage parlor | List of close matches: ['massage parlor', 'sewage plant']\n",
      "Original value: printing plant | List of close matches: ['printing plant', 'parking lot', 'power plant', 'sewage plant', 'swimming pool']\n",
      "Original value: parking lot | List of close matches: ['parking lot', 'printing plant', 'vacant lot', 'paint store', 'nursing home gt 6']\n",
      "Original value: workshop residential | List of close matches: ['workshop residential', 'workshop commercial', 'residential hotel', 'clinics-medic/dental', 'hospital']\n",
      "Original value: power plant | List of close matches: ['power plant', 'sewage plant', 'printing plant', 'tower']\n",
      "Original value: tower | List of close matches: ['tower', 'power plant', 'theater']\n",
      "Original value: mortuary | List of close matches: ['mortuary', 'library']\n",
      "Original value: animal sale or care | List of close matches: ['animal sale or care', 'retail sales']\n",
      "Original value: laundry/laundromat | List of close matches: ['laundry/laundromat', 'dry cleaners']\n",
      "Original value: nite club | List of close matches: ['nite club', 'club']\n",
      "Original value: paint store | List of close matches: ['paint store', 'moving & storage', 'garment shops', \"prson'l svc tutor\"]\n",
      "Original value: recreation bldg | List of close matches: ['recreation bldg']\n",
      "Original value: theater | List of close matches: ['theater', 'tower']\n",
      "Original value: prkng garage/public | List of close matches: ['prkng garage/public', 'prkng garage/private']\n",
      "Original value: sign | List of close matches: ['sign']\n",
      "Original value: phone xchnge/equip | List of close matches: ['phone xchnge/equip']\n",
      "Original value: dance hall | List of close matches: ['dance hall', 'day care home lt 7']\n",
      "Original value: sfpd or sffd station | List of close matches: ['sfpd or sffd station', 'radio & tv stations', 'sound studio']\n",
      "Original value: storage tanks | List of close matches: ['storage tanks', 'storage shed', 'sewage plant']\n",
      "Original value: muni carbarn | List of close matches: ['muni carbarn']\n",
      "Original value: stadium | List of close matches: ['stadium']\n",
      "Original value: automobile sales | List of close matches: ['automobile sales', 'retail sales', 'wholesale sales']\n",
      "Original value: fence/retaining wall | List of close matches: ['fence/retaining wall', 'retail sales']\n",
      "Original value: radio & tv stations | List of close matches: ['radio & tv stations', 'sfpd or sffd station']\n",
      "Original value: social care facility | List of close matches: ['social care facility', 'child care', 'day care center']\n",
      "Original value: amusement center | List of close matches: ['amusement center', 'day care center', 'adult entertainment']\n",
      "Original value: day care home gt 12 | List of close matches: ['day care home gt 12', 'day care home 7 - 12', 'day care home lt 7', 'day care center', 'day care, non-res']\n",
      "Original value: moving & storage | List of close matches: ['moving & storage', 'paint store', 'storage shed']\n",
      "Original value: dry cleaners | List of close matches: ['dry cleaners', 'day care center', 'day care, non-res', 'laundry/laundromat']\n",
      "Original value: day care home 7 - 12 | List of close matches: ['day care home 7 - 12', 'day care home gt 12', 'day care home lt 7', 'day care, non-res', 'day care center']\n",
      "Original value: chemical processing | List of close matches: ['chemical processing']\n",
      "Original value: accessory cottage | List of close matches: ['accessory cottage']\n",
      "Original value: day care, non-res | List of close matches: ['day care, non-res', 'day care center', 'day care home lt 7', 'day care home gt 12', 'day care home 7 - 12']\n",
      "Original value: nursing home non amb | List of close matches: ['nursing home non amb', 'nursing home gt 6', 'nursing home lte 6']\n",
      "Original value: wholesale sales | List of close matches: ['wholesale sales', 'automobile sales', 'retail sales']\n",
      "Original value: library | List of close matches: ['library', 'mortuary']\n",
      "Original value: nursery(floral) | List of close matches: ['nursery(floral)']\n",
      "Original value: day care center | List of close matches: ['day care center', 'day care home lt 7', 'day care home gt 12', 'day care, non-res', 'dry cleaners']\n",
      "Original value: nursing home gt 6 | List of close matches: ['nursing home gt 6', 'nursing home lte 6', 'nursing home non amb', 'day care home gt 12', 'day care home lt 7']\n",
      "Original value: sewage plant | List of close matches: ['sewage plant', 'power plant', 'storage tanks', 'massage parlor', 'printing plant']\n",
      "Original value: convalescent home | List of close matches: ['convalescent home', 'residential hotel', 'vacant lot', 'day care center']\n",
      "Original value: greenhouse | List of close matches: ['greenhouse', 'garment shops', 'residential hotel', 'bath house']\n",
      "Original value: adult entertainment | List of close matches: ['adult entertainment', 'amusement center']\n",
      "Original value: muni driver restroom | List of close matches: ['muni driver restroom']\n",
      "Original value: sound studio | List of close matches: ['sound studio', \"prson'l svc tutor\", 'lending institution', 'sfpd or sffd station']\n",
      "Original value: dairies/dairy equip. | List of close matches: ['dairies/dairy equip.']\n",
      "Original value: christmas tree lot | List of close matches: ['christmas tree lot']\n",
      "Original value: bath house | List of close matches: ['bath house', 'garment shops', 'greenhouse']\n",
      "Original value: jail | List of close matches: ['jail']\n",
      "Original value: prson'l svc tutor | List of close matches: [\"prson'l svc tutor\", 'sound studio', 'paint store']\n",
      "Original value: r-3(dwg) nursing | List of close matches: ['r-3(dwg) nursing']\n",
      "Original value: car wash | List of close matches: ['car wash']\n",
      "Original value: roofing materials | List of close matches: ['roofing materials', 'building materials', 'filling/service stn', 'workshop commercial']\n",
      "Original value: orphanage | List of close matches: ['orphanage', 'power plant']\n",
      "Original value: ambulance service | List of close matches: ['ambulance service', 'filling/service stn']\n",
      "Original value: meat/produce marts | List of close matches: ['meat/produce marts']\n",
      "Original value: building materials | List of close matches: ['building materials', 'roofing materials', 'filling/service stn']\n",
      "Original value: temple | List of close matches: ['temple']\n",
      "Original value: swimming pool | List of close matches: ['swimming pool', 'printing plant']\n",
      "Original value: day care home lt 7 | List of close matches: ['day care home lt 7', 'day care home gt 12', 'day care home 7 - 12', 'day care center', 'day care, non-res']\n",
      "Original value: nursing home lte 6 | List of close matches: ['nursing home lte 6', 'nursing home gt 6', 'nursing home non amb', 'day care home lt 7', 'residential hotel']\n",
      "Original value: child care | List of close matches: ['child care', 'social care facility']\n"
     ]
    }
   ],
   "source": [
    "# To do this for all entries in the existing_values we can write a for loop (or wrap it in a function)\n",
    "\n",
    "for val in existing_use_values:\n",
    "    # Get top 5 matches\n",
    "    matches = process.extract(val, existing_use_values, limit=5, scorer=fuzz.ratio)\n",
    "    # Only extract matches with a raio > 50\n",
    "    close_matches = [matches[0] for matches in matches if matches[1] >= 50]\n",
    "    print('Original value:', val, '| List of close matches:', close_matches)"
   ]
  }
 ],
 "metadata": {
  "kernelspec": {
   "display_name": "Python 3",
   "language": "python",
   "name": "python3"
  },
  "language_info": {
   "codemirror_mode": {
    "name": "ipython",
    "version": 3
   },
   "file_extension": ".py",
   "mimetype": "text/x-python",
   "name": "python",
   "nbconvert_exporter": "python",
   "pygments_lexer": "ipython3",
   "version": "3.8.3"
  }
 },
 "nbformat": 4,
 "nbformat_minor": 4
}
